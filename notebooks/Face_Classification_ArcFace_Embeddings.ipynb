{
  "cells": [
    {
      "cell_type": "markdown",
      "metadata": {},
      "source": [
        "# ArcFace Loss (Additive Angular Margin Loss)\n",
        "\n",
        "## Теория ArcFace"
      ]
    },
    {
      "cell_type": "markdown",
      "metadata": {},
      "source": [
        "В случае с обучением на задачу классификации первая подходящая лосс-функция, которая нам приходит в голову — Cross-Entropy. И на ней действительно можно обучать сеть для распознавания лиц. Но за много лет люди придумали более хитрые лосс-функции, которые делают обучение сети для распознавания лиц более эффективным. Одним из лучших считается ArcFace Loss (Additive Angular Margin Loss).\n",
        "\n",
        "Этот лосс — чуть измененная кросс-энтропия. Он позволяет достичь лучшего распределения векторов лиц на сфере. В нем добавлены некоторые дополнительные ограничения и гиперпараметры, для того чтобы эмбеддинги лиц одного класса были более близки между собой, а эмбеддинги лиц разных людей оставались далеки. То есть, этот лосс позволяет лучше кластеризовать лица на сфере единичного радиуса.\n"
      ]
    },
    {
      "cell_type": "markdown",
      "metadata": {},
      "source": [
        "**Как устроен ArcFace**:\n",
        "\n",
        "Стандартные SoftMax + кросс-энтропия (CE) выглядят так:\n",
        "\n",
        "$$L_{CE} = \\frac{-1}{N}\\sum_1^N \\frac{e^{W_{y_i}^{T}x_i + b_{y_i}}}{\\sum^n_{j=1}e^{W_j^Tx_i+b_j}},$$\n",
        "\n",
        "здесь:\n",
        "- $x_i \\in \\mathbb{R^d}$ — вектор $i$-го элемента обучающей выборки перед последним полносвязным слоем сети. $y_i$ — класс этого элемента;\n",
        "- $W_j \\in \\mathbb{R^d}$ — j-ый столбец матрицы весов последнего слоя сети (т.е. слоя, который производит итоговую классификацю входящего объекта);\n",
        "- $b_j \\in \\mathbb{R^d}$ — j-ый элемент вектора байеса последнего слоя сети;\n",
        "- $N$ — batch size;\n",
        "- $n$ — количество классов.\n",
        "\n",
        "\n",
        "Хотя этот лосс работает хорошо, он явным образом не заставляет эмбеддинги $x_i$ элементов, принадлежащих одному классу, быть близкими друг к другу по расстоянию. И не заставляет эмбеддинги элементов, принадлежащих разным классам, быть далеко друг от друга. Все, что хочет этот лосс — чтобы на основе эмбеддингов $x_i$ можно было хорошо классифицировать элементы, никакие ограничений на расстояния между эмбеддингами $x_i$ он не вводит.\n",
        "\n",
        "Из-за этого у нейросетей для распознавания лиц, которые обучены на обычном CE loss, бывают проблемы с распознаванием лиц, которые сильно отличаются от лиц того же человека разными допатрибутами (шляпа/прическа/очки и т.п.). Просто эмбеддинг для таких лиц получается довольно далек по расстоянию от других эмбеддингов лиц этого же человека.\n",
        "\n",
        "Давайте теперь немного поправим формулу:\n",
        "- уберем байес последнего слоя, т.е. сделаем $b_j=0$;\n",
        "- нормализуем веса последнего слоя: ||$W_j$|| = 1;\n",
        "- нормализуем эмбеддинги: ||$x_i$|| = 1. Перед подачей их на вход последнему слою (т.е. перед умножением на матрицу $W_j$) умножим их на гиперпараметр s. По сути, мы приводим норму всех эмбеддингов к s. Смысл этого гиперпараметра в том, что, возможно, сети проще будет классифицировать эмбеддинги, у которых не единичная норма.\n",
        "\n",
        "Нормализация эмбеддингов приводит к тому, что эмбеддинги начинают быть распределены по сфере единичного радиуса (и сфере радиуса s после умножения на ниперпараметр s). И итоговые предсказания сети после последнего слоя зависят только от угла между эмбеддингами $x_i$ и выученных весов $W_j$. От нормы эмбеддинга $x_i$ они больше не зависят, т.к. у всех эмбеддингов они теперь одинаковые.\n",
        "\n",
        "Получается, в степени экспоненты у нас останется выражение $s W_{y_i}^{T}x_i$, которое можно переписать в виде  $s W_{y_i}^{T}x_i = s ||W_{y_i}||\\cdot ||x_i|| \\cdot cos\\Theta_{y_i}$. Тут $\\Theta_{y_i}$ — это угод между векторами $W_{y_i}$ и $x_i$. Но так как мы сделали нормы $W_{y_i}$ и $x_i$ единичными, то все это выражение просто будет равно $s cos\\Theta_{y_i}$.\n",
        "\n",
        "В итоге мы получим следующую формулу лосса:\n",
        "\n",
        "$$L = \\frac{-1}{N}\\sum_1^N \\frac{e^{s\\ cos\\Theta_{y_i}}}{e^{s\\ cos\\Theta_{y_i}} + \\sum^n_{j=1,\\ j\\ne y_i} e^{s\\ cos\\Theta_j}}$$\n",
        "\n",
        "\n",
        "И последний шаг. Добавим еще один гиперпараметр $m$. Он называется additive angular margin penalty и заставляет эмбеддинги одного класса быть ближе друг к другу, а эмбеддинги разных классов — более далекими друг от друга.\n",
        "\n",
        "В итоге получим вот что:\n",
        "\n",
        "$$L_{ArcFace} = \\frac{-1}{N}\\sum_1^N \\frac{e^{s\\ cos(\\Theta_{y_i} + m)}}{e^{s\\ cos(\\Theta_{y_i} + m)} + \\sum^n_{j=1,\\ j\\ne y_i} e^{s\\ cos\\Theta_j}}$$\n",
        "\n",
        "Это и есть ArcFace Loss с двумя  гиперпараметрами, s и m.\n",
        "\n",
        "Получается, что ArcFace Loss завтавляет сеть выучивать эмбеддинги, распределенные по сфере радиуса s, причем чтобы эмбеддинги одного класса были ближе друг к другу, а эмбеддинги разных классов — более далеки друг от друга.\n",
        "\n"
      ]
    },
    {
      "cell_type": "markdown",
      "metadata": {},
      "source": [
        "**Доплитература по ArcFace Loss:**\n",
        "\n",
        "Оригинальная статья: https://arxiv.org/pdf/1801.07698.pdf"
      ]
    },
    {
      "cell_type": "markdown",
      "metadata": {},
      "source": [
        "## Другие лоссы"
      ]
    },
    {
      "cell_type": "markdown",
      "metadata": {},
      "source": [
        "Кроме ArcFace, есть еще много разных вариантов лоссов для задачи face recognition. Некоторые из них можно найти, например, [тут](https://openaccess.thecvf.com/content_CVPRW_2020/papers/w48/Hsu_A_Comprehensive_Study_on_Loss_Functions_for_Cross-Factor_Face_Recognition_CVPRW_2020_paper.pdf). Вы можете попробовать реализовать другие лосс-функции в этом проекте в качестве дополнительного задания.\n",
        "\n",
        "Кроме этого, можно миксовать лосс-функции. Например, обучать нейросеть на сумме ArcFace и TripletLoss. Часто так выходит лучше, чем если обучать на каком-то одном лоссе."
      ]
    },
    {
      "cell_type": "markdown",
      "metadata": {},
      "source": [
        "# Датасет"
      ]
    },
    {
      "cell_type": "markdown",
      "metadata": {},
      "source": [
        "В качестве датасета нужно использовать картинки из CelebA, выровненные при помощи своей модели из задания 1. Очень желательно их еще кропнуть таким образом, чтобы нейросети поступали на вход преимущественно только лица без какого либо фона, частей тела и прочего. Целиком брать весь датасет CelebA не обязательно, он слишком большой.\n",
        "\n",
        "Если планируете делать дополнительное задание на Identificaton rate metric, то **обязательно разбейте заранее датасет на train/val или train/val/test.** Это нужно сделать не только на уровне кода, а на уровне папок, чтобы точно знать, на каких картинках модель обучалась, а на каких нет. Лучше заранее почитайте [ноутбук с заданием](https://colab.research.google.com/drive/1sjO2-N8EsLb2HQcOELikFQCqKUWrPehJ?usp=sharing)."
      ]
    },
    {
      "cell_type": "markdown",
      "metadata": {},
      "source": [
        "# План заданий"
      ]
    },
    {
      "cell_type": "markdown",
      "metadata": {},
      "source": [
        "Итак, вот, что от вас требуется в этом задании:\n",
        "\n",
        "* Выбрать модель (или несколько моделей) для обучения. Можно брать предобученные на ImageNet, но нельзя использовать модели, предобученные на задачу распознавания лиц.\n",
        "* Обучить эту модель (модели) на CE loss. Добиться accuracy > 0.7.\n",
        "* Реализовать ArcFace loss.\n",
        "* Обучить модель (модели) на ArcFace loss. Добиться accuracy > 0.7.\n",
        "* Написать небольшой отчет по обучению, сравнить CE loss и ArcFace loss.\n",
        "\n",
        "**P.S. Не забывайте сохранять модели после обучения**"
      ]
    },
    {
      "cell_type": "code",
      "execution_count": null,
      "metadata": {},
      "outputs": [],
      "source": [
        "import os\n",
        "import math\n",
        "from torch.optim import lr_scheduler\n",
        "from tqdm import tqdm\n",
        "from torchvision.models import efficientnet_b1, EfficientNet_B1_Weights\n",
        "\n",
        "import torch\n",
        "import torch.nn as nn\n",
        "import torch.nn.functional as F\n",
        "import torch.optim as optim\n",
        "import torchvision.models as models\n",
        "\n",
        "import numpy as np\n",
        "import pandas as pd\n",
        "from matplotlib import pyplot as plt\n",
        "from PIL import Image\n",
        "from sklearn.metrics.pairwise import cosine_similarity\n",
        "\n",
        "from torch.utils.data import DataLoader, Dataset\n",
        "from torchvision import transforms\n",
        "from torch.utils.data import Subset\n",
        "import random"
      ]
    },
    {
      "cell_type": "markdown",
      "metadata": {},
      "source": [
        "- Данные - выровненные лица 500 людей из датасета CelebA-500.\n",
        "  - `celebA_imgs` — папка с выровненными картинками;\n",
        "  - `celebA_anno.txt` — файл с аннотацией — каждой картинке из `celebA_imgs` поставлен в соответствие ее id;\n",
        "  - `celebA_train_split.txt` — файл со сплитом на train/val/test.\n"
      ]
    },
    {
      "cell_type": "markdown",
      "metadata": {},
      "source": [
        "### Этап 1: Подготовка таблицы с информацией о изображениях (images_info)\n",
        "\n",
        "  - Загрузка и объединение аннотаций (celebrities IDs) и разметки (splits train/val/test) для датасета CelebA-500"
      ]
    },
    {
      "cell_type": "code",
      "execution_count": null,
      "metadata": {},
      "outputs": [
        {
          "name": "stdout",
          "output_type": "stream",
          "text": [
            "\n",
            "Объединённый датафрейм: 12011 строк, 3 столбца\n"
          ]
        },
        {
          "data": {
            "text/html": [
              "<div>\n",
              "<style scoped>\n",
              "    .dataframe tbody tr th:only-of-type {\n",
              "        vertical-align: middle;\n",
              "    }\n",
              "\n",
              "    .dataframe tbody tr th {\n",
              "        vertical-align: top;\n",
              "    }\n",
              "\n",
              "    .dataframe thead th {\n",
              "        text-align: right;\n",
              "    }\n",
              "</style>\n",
              "<table border=\"1\" class=\"dataframe\">\n",
              "  <thead>\n",
              "    <tr style=\"text-align: right;\">\n",
              "      <th></th>\n",
              "      <th>img_name</th>\n",
              "      <th>segment</th>\n",
              "      <th>image_id</th>\n",
              "    </tr>\n",
              "  </thead>\n",
              "  <tbody>\n",
              "    <tr>\n",
              "      <th>0</th>\n",
              "      <td>000001.jpg</td>\n",
              "      <td>train</td>\n",
              "      <td>0</td>\n",
              "    </tr>\n",
              "    <tr>\n",
              "      <th>1</th>\n",
              "      <td>000404.jpg</td>\n",
              "      <td>train</td>\n",
              "      <td>0</td>\n",
              "    </tr>\n",
              "    <tr>\n",
              "      <th>2</th>\n",
              "      <td>003415.jpg</td>\n",
              "      <td>train</td>\n",
              "      <td>0</td>\n",
              "    </tr>\n",
              "    <tr>\n",
              "      <th>3</th>\n",
              "      <td>004390.jpg</td>\n",
              "      <td>train</td>\n",
              "      <td>0</td>\n",
              "    </tr>\n",
              "    <tr>\n",
              "      <th>4</th>\n",
              "      <td>018062.jpg</td>\n",
              "      <td>train</td>\n",
              "      <td>0</td>\n",
              "    </tr>\n",
              "  </tbody>\n",
              "</table>\n",
              "</div>"
            ],
            "text/plain": [
              "     img_name segment  image_id\n",
              "0  000001.jpg   train         0\n",
              "1  000404.jpg   train         0\n",
              "2  003415.jpg   train         0\n",
              "3  004390.jpg   train         0\n",
              "4  018062.jpg   train         0"
            ]
          },
          "metadata": {},
          "output_type": "display_data"
        },
        {
          "name": "stdout",
          "output_type": "stream",
          "text": [
            "\n",
            "Распределение по сегментам:\n"
          ]
        },
        {
          "data": {
            "text/plain": [
              "segment\n",
              "train    8544\n",
              "val      1878\n",
              "test     1589\n",
              "Name: count, dtype: int64"
            ]
          },
          "metadata": {},
          "output_type": "display_data"
        }
      ],
      "source": [
        "# Подготовка данных\n",
        "\n",
        "# --- 1. Указываем пути к данным ---\n",
        "images_dir = 'H:/Disk3/Python/Deep_Learning_MFTI_Part1_2025/23.1 Проект/Dataset/celebA_train_500/celebA_imgs'\n",
        "annotations_file = 'H:/Disk3/Python/Deep_Learning_MFTI_Part1_2025/23.1 Проект/Dataset/celebA_train_500/celebA_anno.txt'\n",
        "split_file = 'H:/Disk3/Python/Deep_Learning_MFTI_Part1_2025/23.1 Проект/Dataset/celebA_train_500/celebA_train_split.txt'\n",
        "\n",
        "# --- 2. Читаем аннотации (сопоставление изображения и id) ---\n",
        "# Файл имеет две колонки: имя картинки и её ID\n",
        "annotations = pd.read_csv(annotations_file, sep='\\s+', header=None, names=[\"img_name\", \"image_id\"])\n",
        "\n",
        "# --- 3. Читаем файл с разбиением на train/val/test ---\n",
        "with open(split_file, 'r') as f:\n",
        "    split_lines = f.read().splitlines()\n",
        "\n",
        "# Каждая строка имеет вид: 'имя_картинки 0/1/2'\n",
        "# Преобразуем строки в DataFrame\n",
        "split_data = [line.strip().split() for line in split_lines]\n",
        "splits = pd.DataFrame(split_data, columns=[\"img_name\", \"segment\"])\n",
        "\n",
        "# Заменим числовые метки на понятные категории\n",
        "splits[\"segment\"] = splits[\"segment\"].replace({\"0\": \"train\", \"1\": \"val\", \"2\": \"test\"})\n",
        "\n",
        "# --- 4. Объединяем аннотации и разметку по имени изображения ---\n",
        "# Оставляем только те строки, которые есть и в splits, и в annotations\n",
        "images_info = pd.merge(splits, annotations, on=\"img_name\", how=\"left\")\n",
        "\n",
        "# Проверим, всё ли объединилось корректно\n",
        "print(f\"\\nОбъединённый датафрейм: {images_info.shape[0]} строк, {images_info.shape[1]} столбца\")\n",
        "display(images_info.head())\n",
        "\n",
        "# --- 5. Проверим распределение по сегментам ---\n",
        "print(\"\\nРаспределение по сегментам:\")\n",
        "display(images_info[\"segment\"].value_counts())"
      ]
    },
    {
      "cell_type": "markdown",
      "metadata": {},
      "source": [
        "### Этап 2: Датасет"
      ]
    },
    {
      "cell_type": "code",
      "execution_count": null,
      "metadata": {},
      "outputs": [],
      "source": [
        "# Датасет\n",
        "\n",
        "class CelebADataset(Dataset):\n",
        "    def __init__(self, images_info, images_dir, mode):\n",
        "        super().__init__()\n",
        "        self.mode = mode\n",
        "        self.images_dir = images_dir\n",
        "        self.images_info = images_info[images_info.segment == mode]\n",
        "\n",
        "    def __len__(self):\n",
        "        return len(self.images_info)\n",
        "\n",
        "    def __getitem__(self, idx):\n",
        "\n",
        "        # берем картинку\n",
        "        img_name = os.path.join(self.images_dir, self.images_info.iloc[idx]['img_name'])\n",
        "        image = np.array(Image.open(img_name))\n",
        "\n",
        "        # кроп\n",
        "        image = Image.fromarray(image[77:-41, 45:-50])\n",
        "\n",
        "        # метка\n",
        "        label = self.images_info.iloc[idx]['image_id'] \n",
        "\n",
        "        # аугментации\n",
        "        rescale_size=256\n",
        "        if self.mode == 'train':\n",
        "            transform = transforms.Compose([\n",
        "                transforms.Resize((rescale_size, rescale_size)),\n",
        "                transforms.RandomHorizontalFlip(p=0.5),  # Randomly flip images horizontally\n",
        "                transforms.RandomResizedCrop(rescale_size, scale=(0.9, 1.0)),  # Random crop with slight zoom-in effect\n",
        "                transforms.ToTensor(),\n",
        "                # в соответствии со значениями среднего и стандартного отклонения для моделей, обученных на ImageNet\n",
        "                transforms.Normalize([0.485, 0.456, 0.406], [0.229, 0.224, 0.225]) \n",
        "            ])\n",
        "        else:\n",
        "            transform = transforms.Compose([\n",
        "                transforms.Resize((rescale_size, rescale_size)),\n",
        "                transforms.ToTensor(),\n",
        "                transforms.Normalize([0.485, 0.456, 0.406], [0.229, 0.224, 0.225])\n",
        "            ])\n",
        "\n",
        "        image = transform(image)\n",
        "        return image, label"
      ]
    },
    {
      "cell_type": "markdown",
      "metadata": {},
      "source": [
        "### Этап 3: Загрузка данных"
      ]
    },
    {
      "cell_type": "code",
      "execution_count": null,
      "metadata": {},
      "outputs": [],
      "source": [
        "# Подготовка функции потерь и оптимизатора\n",
        "\n",
        "# Создание объектов Dataset\n",
        "train_dataset = CelebADataset(images_info, images_dir, mode=\"train\")\n",
        "val_dataset = CelebADataset(images_info, images_dir, mode=\"val\")\n",
        "test_dataset = CelebADataset(images_info, images_dir, mode=\"test\")\n",
        "\n",
        "# Берем val_size = 20%\n",
        "val_size = len(val_dataset)\n",
        "subset_size = math.ceil(val_size * 0.2)\n",
        "\n",
        "# Создаем подмножество 20%\n",
        "val_subset = Subset(val_dataset, list(range(subset_size)))"
      ]
    },
    {
      "cell_type": "markdown",
      "metadata": {},
      "source": [
        "### Этап 4: Обучение модели с лосс - CrossEntropy"
      ]
    },
    {
      "cell_type": "code",
      "execution_count": null,
      "metadata": {},
      "outputs": [
        {
          "name": "stderr",
          "output_type": "stream",
          "text": [
            "Epoch 1/10: 100%|███████████████████████████████████████████████████| 67/67 [01:20<00:00,  1.21s/it]\n"
          ]
        },
        {
          "name": "stdout",
          "output_type": "stream",
          "text": [
            "Train Loss: 5.1399, Accuracy: 8.45%\n",
            "Validation Loss: 3.7293, Validation Accuracy: 19.70%\n"
          ]
        },
        {
          "name": "stderr",
          "output_type": "stream",
          "text": [
            "Epoch 2/10: 100%|███████████████████████████████████████████████████| 67/67 [01:20<00:00,  1.20s/it]\n"
          ]
        },
        {
          "name": "stdout",
          "output_type": "stream",
          "text": [
            "Train Loss: 2.5551, Accuracy: 43.59%\n",
            "Validation Loss: 2.3147, Validation Accuracy: 47.34%\n"
          ]
        },
        {
          "name": "stderr",
          "output_type": "stream",
          "text": [
            "Epoch 3/10: 100%|███████████████████████████████████████████████████| 67/67 [01:34<00:00,  1.40s/it]\n"
          ]
        },
        {
          "name": "stdout",
          "output_type": "stream",
          "text": [
            "Train Loss: 1.2142, Accuracy: 73.03%\n",
            "Validation Loss: 1.8726, Validation Accuracy: 55.43%\n"
          ]
        },
        {
          "name": "stderr",
          "output_type": "stream",
          "text": [
            "Epoch 4/10: 100%|███████████████████████████████████████████████████| 67/67 [01:28<00:00,  1.33s/it]\n"
          ]
        },
        {
          "name": "stdout",
          "output_type": "stream",
          "text": [
            "Train Loss: 0.4660, Accuracy: 92.60%\n",
            "Validation Loss: 1.4238, Validation Accuracy: 67.04%\n"
          ]
        },
        {
          "name": "stderr",
          "output_type": "stream",
          "text": [
            "Epoch 5/10: 100%|███████████████████████████████████████████████████| 67/67 [01:28<00:00,  1.32s/it]\n"
          ]
        },
        {
          "name": "stdout",
          "output_type": "stream",
          "text": [
            "Train Loss: 0.2875, Accuracy: 96.79%\n",
            "Validation Loss: 1.3955, Validation Accuracy: 68.16%\n"
          ]
        },
        {
          "name": "stderr",
          "output_type": "stream",
          "text": [
            "Epoch 6/10: 100%|███████████████████████████████████████████████████| 67/67 [01:19<00:00,  1.18s/it]\n"
          ]
        },
        {
          "name": "stdout",
          "output_type": "stream",
          "text": [
            "Train Loss: 0.2138, Accuracy: 98.28%\n",
            "Validation Loss: 1.3654, Validation Accuracy: 68.00%\n"
          ]
        },
        {
          "name": "stderr",
          "output_type": "stream",
          "text": [
            "Epoch 7/10: 100%|███████████████████████████████████████████████████| 67/67 [01:19<00:00,  1.19s/it]\n"
          ]
        },
        {
          "name": "stdout",
          "output_type": "stream",
          "text": [
            "Train Loss: 0.1600, Accuracy: 98.95%\n",
            "Validation Loss: 1.3573, Validation Accuracy: 68.42%\n"
          ]
        },
        {
          "name": "stderr",
          "output_type": "stream",
          "text": [
            "Epoch 8/10: 100%|███████████████████████████████████████████████████| 67/67 [01:20<00:00,  1.21s/it]\n"
          ]
        },
        {
          "name": "stdout",
          "output_type": "stream",
          "text": [
            "Train Loss: 0.1538, Accuracy: 99.13%\n",
            "Validation Loss: 1.3514, Validation Accuracy: 68.64%\n"
          ]
        },
        {
          "name": "stderr",
          "output_type": "stream",
          "text": [
            "Epoch 9/10: 100%|███████████████████████████████████████████████████| 67/67 [01:23<00:00,  1.24s/it]\n"
          ]
        },
        {
          "name": "stdout",
          "output_type": "stream",
          "text": [
            "Train Loss: 0.1431, Accuracy: 99.37%\n",
            "Validation Loss: 1.3509, Validation Accuracy: 68.58%\n"
          ]
        },
        {
          "name": "stderr",
          "output_type": "stream",
          "text": [
            "Epoch 10/10: 100%|██████████████████████████████████████████████████| 67/67 [01:19<00:00,  1.18s/it]\n"
          ]
        },
        {
          "name": "stdout",
          "output_type": "stream",
          "text": [
            "Train Loss: 0.1348, Accuracy: 99.27%\n",
            "Validation Loss: 1.3479, Validation Accuracy: 68.74%\n"
          ]
        }
      ],
      "source": [
        "# EfficientNet_B1_Weights - CrossEntropy loss\n",
        "\n",
        "# Количество классов\n",
        "num_classes = 500\n",
        "num_epochs = 10\n",
        "\n",
        "# Перемещаем модель на GPU\n",
        "device = torch.device(\"cuda\" if torch.cuda.is_available() else \"cpu\")\n",
        "\n",
        "# Создание DataLoader\n",
        "batch_size = 64\n",
        "train_loader = DataLoader(train_dataset, batch_size=batch_size, shuffle=True)\n",
        "val_loader = DataLoader(val_dataset, batch_size=batch_size, shuffle=False)\n",
        "test_loader = DataLoader(test_dataset, batch_size=batch_size, shuffle=False)\n",
        "\n",
        "# Заменяем классификатор (голову) на новый с нужным числом выходов\n",
        "weights = EfficientNet_B1_Weights.IMAGENET1K_V2\n",
        "model = efficientnet_b1(weights=weights)\n",
        "model.classifier[1] = torch.nn.Linear(model.classifier[1].in_features, num_classes)\n",
        "model = model.to(device)\n",
        "\n",
        "criterion = nn.CrossEntropyLoss()\n",
        "optimizer = torch.optim.Adam(model.parameters(), lr=1e-3, weight_decay=1e-4)\n",
        "scheduler = lr_scheduler.StepLR(optimizer, step_size=3, gamma=0.2)\n",
        "\n",
        "train_accuracies = []\n",
        "val_accuracies = []\n",
        "train_losses = []\n",
        "val_losses = []\n",
        "\n",
        "for epoch in range(num_epochs):\n",
        "    model.train()\n",
        "    running_loss = 0.0\n",
        "    correct = 0\n",
        "    total = 0\n",
        "\n",
        "    for images, labels in tqdm(train_loader, desc=f\"Epoch {epoch+1}/{num_epochs}\", ncols=100):\n",
        "        images, labels = images.to(device), labels.to(device)\n",
        "\n",
        "        optimizer.zero_grad()\n",
        "\n",
        "        # Прямой проход\n",
        "        outputs = model(images)\n",
        "        loss = criterion(outputs, labels)\n",
        "\n",
        "        # Обратный проход\n",
        "        loss.backward()\n",
        "        optimizer.step()\n",
        "        \n",
        "        running_loss += loss.item() \n",
        "        _, predicted = torch.max(outputs.data, 1)\n",
        "        total += labels.size(0)\n",
        "        correct += (predicted == labels).sum().item()\n",
        "\n",
        "    avg_train_loss = running_loss / len(train_loader)\n",
        "    train_losses.append(avg_train_loss)\n",
        "    train_accuracies.append(100 * correct / total)\n",
        "\n",
        "    print(f\"Train Loss: {avg_train_loss:.4f}, Accuracy: {100 * correct / total:.2f}%\")\n",
        "\n",
        "    # Оценка на валидации\n",
        "    model.eval()\n",
        "    val_correct = 0\n",
        "    val_total = 0\n",
        "    val_running_loss = 0.0\n",
        "\n",
        "    with torch.no_grad():\n",
        "        for images, labels in val_loader:\n",
        "            images, labels = images.to(device), labels.to(device)\n",
        "            outputs = model(images)\n",
        "            loss = criterion(outputs, labels)\n",
        "            val_running_loss += loss.item()\n",
        "\n",
        "            _, predicted = torch.max(outputs.data, 1)\n",
        "            val_total += labels.size(0)\n",
        "            val_correct += (predicted == labels).sum().item()\n",
        "\n",
        "    avg_val_loss = val_running_loss / len(val_loader)\n",
        "    val_losses.append(avg_val_loss)\n",
        "    val_accuracies.append(100 * val_correct / val_total)\n",
        "\n",
        "    print(f\"Validation Loss: {avg_val_loss:.4f}, Validation Accuracy: {100 * val_correct / val_total:.2f}%\")\n",
        "    scheduler.step()  # Передаем avg_val_loss, если используешь ReduceLROnPlateau\n"
      ]
    },
    {
      "cell_type": "code",
      "execution_count": null,
      "metadata": {},
      "outputs": [
        {
          "name": "stdout",
          "output_type": "stream",
          "text": [
            "Test Accuracy: 70.11%\n"
          ]
        }
      ],
      "source": [
        "# Accuracy на тестовых данных\n",
        "\n",
        "model.eval()\n",
        "test_correct = 0\n",
        "test_total = 0\n",
        "\n",
        "with torch.no_grad():\n",
        "    for images, labels in test_loader:\n",
        "        images, labels = images.to(device), labels.to(device)\n",
        "        outputs = model(images)\n",
        "        _, predicted = torch.max(outputs.data, 1)\n",
        "        test_total += labels.size(0)\n",
        "        test_correct += (predicted == labels).sum().item()\n",
        "\n",
        "print(f\"Test Accuracy: {100 * test_correct / test_total:.2f}%\")"
      ]
    },
    {
      "cell_type": "code",
      "execution_count": null,
      "metadata": {},
      "outputs": [],
      "source": [
        "# Сохранение модели\n",
        "\n",
        "save_path='efficientnet_b1_ArcFace-loss.pth'\n",
        "torch.save(model.state_dict(), save_path)"
      ]
    },
    {
      "cell_type": "code",
      "execution_count": null,
      "metadata": {},
      "outputs": [],
      "source": [
        "# Загрузка модели\n",
        "\n",
        "weights_path = \"efficientnet_arcface.pth\"\n",
        "state_dict = torch.load(weights_path, map_location=torch.device('cuda'))\n",
        "model.load_state_dict(state_dict)"
      ]
    },
    {
      "cell_type": "code",
      "execution_count": null,
      "metadata": {},
      "outputs": [
        {
          "data": {
            "image/png": "[encoded data removed]",
            "text/plain": [
              "<Figure size 1200x500 with 2 Axes>"
            ]
          },
          "metadata": {},
          "output_type": "display_data"
        }
      ],
      "source": [
        "# Визуализация обучения\n",
        "\n",
        "epochs = range(num_epochs)\n",
        "plt.figure(figsize=(12, 5))\n",
        "\n",
        "# График потерь\n",
        "plt.subplot(1, 2, 1)\n",
        "plt.plot(epochs, train_losses, label='Train Loss')\n",
        "plt.plot(epochs, val_losses, label='Val Loss')\n",
        "plt.title(\"Loss over Epochs\")\n",
        "plt.xlabel(\"Epoch\")\n",
        "plt.ylabel(\"Loss\")\n",
        "plt.legend()\n",
        "plt.grid(True)\n",
        "\n",
        "# График точности\n",
        "plt.subplot(1, 2, 2)\n",
        "plt.plot(epochs, train_accuracies, label='Train Acc')\n",
        "plt.plot(epochs, val_accuracies, label='Val Acc')\n",
        "plt.title(\"Accuracy over Epochs\")\n",
        "plt.xlabel(\"Epoch\")\n",
        "plt.ylabel(\"Accuracy\")\n",
        "plt.legend()\n",
        "plt.grid(True)\n",
        "\n",
        "plt.tight_layout()\n",
        "plt.show()"
      ]
    },
    {
      "cell_type": "markdown",
      "metadata": {},
      "source": [
        "### Test Accuracy, efficientnetb1 с CE Loss: 70.11%"
      ]
    },
    {
      "cell_type": "markdown",
      "metadata": {},
      "source": [
        "### Этап 5: Подготовка модели и ArcFaceLoss"
      ]
    },
    {
      "cell_type": "code",
      "execution_count": null,
      "metadata": {},
      "outputs": [],
      "source": [
        "# ArcFaceLoss\n",
        "\n",
        "class ArcFaceLogits(nn.Module):\n",
        "    def __init__(self, ebmb_size, n_classes):\n",
        "        super().__init__()\n",
        "        self.weights = nn.Parameter(torch.Tensor(ebmb_size, n_classes)).to(device)\n",
        "        nn.init.xavier_uniform_(self.weights)\n",
        "        \n",
        "    def forward(self, embeddings):\n",
        "        # L2-нормализация эмбеддингов\n",
        "        embeddings = F.normalize(embeddings, dim=1)\n",
        "        \n",
        "        # L2-нормализация весов (по столбцам)\n",
        "        weights = F.normalize(self.weights, dim=0)\n",
        "        \n",
        "        # вычисление cosθ между эмбеддингами и классами\n",
        "        logits = embeddings @ weights\n",
        "        return logits\n",
        "\n",
        "\n",
        "class ArcFaceLoss(nn.Module):\n",
        "    def __init__(self, n_classes, s=50.0, m=0.5):\n",
        "        super().__init__()\n",
        "        self.s = s # Scale factor\n",
        "        self.m = m # Additive angular margin penalty\n",
        "        self.n_classes = n_classes\n",
        "\n",
        "    def forward(self, logits, labels):\n",
        "        # защита от NaN\n",
        "        cosine = logits.clip(-1 + 1e-7, 1 - 1e-7)  \n",
        "        \n",
        "        # преобразование cos в угол θ\n",
        "        theta = torch.acos(cosine)  \n",
        "        \n",
        "        # Сдвиг угла на m (additive angular margin penalty)\n",
        "        theta += F.one_hot(labels, self.n_classes) * self.m \n",
        "        \n",
        "        # масштабирование на s\n",
        "        cosine_s = theta.cos() * self.s \n",
        "        \n",
        "        # финальный softmax loss\n",
        "        return F.cross_entropy(cosine_s, labels)"
      ]
    },
    {
      "cell_type": "code",
      "execution_count": 8,
      "metadata": {},
      "outputs": [],
      "source": [
        "# Модифицируем модель для ArcFace - удаляем classifier head\n",
        "# Без него ArcFaceEfficientNet не подходит для предсказания классов — только для эмбеддингов\n",
        "\n",
        "class ArcFaceEfficientNet(nn.Module):\n",
        "    def __init__(self):\n",
        "        super().__init__()\n",
        "        \n",
        "        # Загружаем предобученную модель efficientnet_b1, weights: IMAGENET1K_V2\n",
        "        self.net = models.efficientnet_b1(weights=EfficientNet_B1_Weights.DEFAULT)\n",
        "        \n",
        "        # Извлечем информацию о размере эмбеддинга\n",
        "        self.emb_size = self.net.classifier[1].in_features\n",
        "        \n",
        "        # Убираем классификационную голову оригинального EfficientNet\n",
        "        # получаем все слои, кроме classifier\n",
        "        # остаётся backbone EfficientNet + слой pooling → выход: [batch_size, emb_size]\n",
        "        self.net = nn.Sequential(*list(self.net.children())[:-1])\n",
        "        \n",
        "    def forward(self, x):\n",
        "        # Вектор размера [batch_size, emb_size] - именно эмбеддинг лица\n",
        "        return self.net(x).squeeze() "
      ]
    },
    {
      "cell_type": "code",
      "execution_count": null,
      "metadata": {},
      "outputs": [],
      "source": [
        "# Функция обучения модели с ArcFaceLoss\n",
        "\n",
        "def train_model_arcface(\n",
        "    model, \n",
        "    logits_calc,\n",
        "    train_loader,\n",
        "    val_loader,\n",
        "    criterion, \n",
        "    optimizer, \n",
        "    scheduler, \n",
        "    num_epochs=30, \n",
        "    patience=3, \n",
        "    checkpoint_path='./', \n",
        "    model_name=\"\", \n",
        "    device='cuda'\n",
        "    ):\n",
        "    \n",
        "    train_accuracies = []\n",
        "    val_accuracies = []\n",
        "    train_losses = []\n",
        "    val_losses = []\n",
        "\n",
        "    # Early stopping\n",
        "    best_val_loss = float('inf')\n",
        "    counter = 0\n",
        "    \n",
        "    for epoch in range(num_epochs):\n",
        "        model.train()\n",
        "        running_loss = 0.0\n",
        "        correct = 0\n",
        "        total = 0\n",
        "\n",
        "        for images, labels in tqdm(train_loader, desc=f\"Epoch {epoch+1}/{num_epochs}\", ncols=100):\n",
        "            images, labels = images.to(device), labels.to(device)\n",
        "\n",
        "            optimizer.zero_grad()\n",
        "            features = model(images)\n",
        "            logits = logits_calc(features)\n",
        "            loss = criterion(logits, labels)\n",
        "            loss.backward()\n",
        "            optimizer.step()\n",
        "            _, predicted = torch.max(logits.data, 1)\n",
        "            total += labels.size(0)\n",
        "            correct += (predicted == labels).sum().item()\n",
        "            running_loss += loss.item()\n",
        "\n",
        "        avg_train_loss = running_loss / len(train_loader)\n",
        "        train_losses.append(avg_train_loss)\n",
        "        train_accuracy = 100 * correct / total\n",
        "        train_accuracies.append(train_accuracy)\n",
        "\n",
        "        print(f\"Train Loss: {avg_train_loss:.4f}, Train Accuracy: {train_accuracy:.2f}%\")\n",
        "\n",
        "        # Оценка на валидации\n",
        "        model.eval()\n",
        "        val_correct = 0\n",
        "        val_total = 0\n",
        "        val_running_loss = 0.0\n",
        "\n",
        "        with torch.no_grad():\n",
        "            for images, labels in val_loader:\n",
        "                images, labels = images.to(device), labels.to(device)\n",
        "                features = model(images)\n",
        "                logits = logits_calc(features)\n",
        "                loss = criterion(logits, labels)\n",
        "                val_running_loss += loss.item()\n",
        "\n",
        "                _, predicted = torch.max(logits.data, 1)\n",
        "                val_total += labels.size(0)\n",
        "                val_correct += (predicted == labels).sum().item()\n",
        "\n",
        "        avg_val_loss = val_running_loss / len(val_loader)\n",
        "        val_losses.append(avg_val_loss)\n",
        "        val_accuracies.append(100 * val_correct / val_total)\n",
        "        \n",
        "        print(f\"Validation Loss: {avg_val_loss:.4f}, Validation Accuracy: {100 * val_correct / val_total:.2f}%\")\n",
        "\n",
        "        # Scheduler step\n",
        "        scheduler.step(avg_val_loss)\n",
        "\n",
        "        # Check for early stopping\n",
        "        if avg_val_loss < best_val_loss:\n",
        "            best_val_loss = avg_val_loss\n",
        "            counter = 0\n",
        "            # Save model checkpoint\n",
        "            torch.save(model.state_dict(), checkpoint_path + f\"{model_name}_{epoch + 1}.pth\")\n",
        "        else:\n",
        "            counter += 1\n",
        "            if counter >= patience:\n",
        "                print(\"Early stopping triggered.\")\n",
        "                break\n",
        "    return train_losses, train_accuracies, val_losses, val_accuracies"
      ]
    },
    {
      "cell_type": "markdown",
      "metadata": {},
      "source": [
        "### Этап 6: Обучение модели с лосс - ArcFaceLoss"
      ]
    },
    {
      "cell_type": "code",
      "execution_count": null,
      "metadata": {},
      "outputs": [
        {
          "name": "stdout",
          "output_type": "stream",
          "text": [
            "ebmbedding size: 1280\n",
            "500 classes\n",
            "device: cuda\n"
          ]
        },
        {
          "name": "stderr",
          "output_type": "stream",
          "text": [
            "Epoch 1/30: 100%|█████████████████████████████████████████████████| 134/134 [01:36<00:00,  1.38it/s]\n"
          ]
        },
        {
          "name": "stdout",
          "output_type": "stream",
          "text": [
            "Train Loss: 30.2219, Accuracy: 3.34%\n",
            "Validation Loss: 29.1284, Validation Accuracy: 10.11%\n"
          ]
        },
        {
          "name": "stderr",
          "output_type": "stream",
          "text": [
            "Epoch 2/30: 100%|█████████████████████████████████████████████████| 134/134 [01:31<00:00,  1.46it/s]\n"
          ]
        },
        {
          "name": "stdout",
          "output_type": "stream",
          "text": [
            "Train Loss: 28.1291, Accuracy: 24.13%\n",
            "Validation Loss: 28.0075, Validation Accuracy: 26.06%\n"
          ]
        },
        {
          "name": "stderr",
          "output_type": "stream",
          "text": [
            "Epoch 3/30: 100%|█████████████████████████████████████████████████| 134/134 [01:38<00:00,  1.37it/s]\n"
          ]
        },
        {
          "name": "stdout",
          "output_type": "stream",
          "text": [
            "Train Loss: 26.1424, Accuracy: 52.07%\n",
            "Validation Loss: 26.3711, Validation Accuracy: 43.35%\n"
          ]
        },
        {
          "name": "stderr",
          "output_type": "stream",
          "text": [
            "Epoch 4/30: 100%|█████████████████████████████████████████████████| 134/134 [01:27<00:00,  1.54it/s]\n"
          ]
        },
        {
          "name": "stdout",
          "output_type": "stream",
          "text": [
            "Train Loss: 23.8255, Accuracy: 72.66%\n",
            "Validation Loss: 24.7752, Validation Accuracy: 55.59%\n"
          ]
        },
        {
          "name": "stderr",
          "output_type": "stream",
          "text": [
            "Epoch 5/30: 100%|█████████████████████████████████████████████████| 134/134 [01:27<00:00,  1.53it/s]\n"
          ]
        },
        {
          "name": "stdout",
          "output_type": "stream",
          "text": [
            "Train Loss: 21.3612, Accuracy: 82.70%\n",
            "Validation Loss: 23.2336, Validation Accuracy: 61.44%\n"
          ]
        },
        {
          "name": "stderr",
          "output_type": "stream",
          "text": [
            "Epoch 6/30: 100%|█████████████████████████████████████████████████| 134/134 [01:32<00:00,  1.45it/s]\n"
          ]
        },
        {
          "name": "stdout",
          "output_type": "stream",
          "text": [
            "Train Loss: 18.6219, Accuracy: 89.64%\n",
            "Validation Loss: 20.9347, Validation Accuracy: 67.82%\n"
          ]
        },
        {
          "name": "stderr",
          "output_type": "stream",
          "text": [
            "Epoch 7/30: 100%|█████████████████████████████████████████████████| 134/134 [01:37<00:00,  1.37it/s]\n"
          ]
        },
        {
          "name": "stdout",
          "output_type": "stream",
          "text": [
            "Train Loss: 15.7961, Accuracy: 92.61%\n",
            "Validation Loss: 18.9360, Validation Accuracy: 71.81%\n"
          ]
        },
        {
          "name": "stderr",
          "output_type": "stream",
          "text": [
            "Epoch 8/30: 100%|█████████████████████████████████████████████████| 134/134 [01:36<00:00,  1.39it/s]\n"
          ]
        },
        {
          "name": "stdout",
          "output_type": "stream",
          "text": [
            "Train Loss: 13.3066, Accuracy: 94.60%\n",
            "Validation Loss: 17.4675, Validation Accuracy: 71.54%\n"
          ]
        },
        {
          "name": "stderr",
          "output_type": "stream",
          "text": [
            "Epoch 9/30: 100%|█████████████████████████████████████████████████| 134/134 [01:31<00:00,  1.46it/s]\n"
          ]
        },
        {
          "name": "stdout",
          "output_type": "stream",
          "text": [
            "Train Loss: 10.8041, Accuracy: 96.20%\n",
            "Validation Loss: 14.2336, Validation Accuracy: 80.85%\n"
          ]
        },
        {
          "name": "stderr",
          "output_type": "stream",
          "text": [
            "Epoch 10/30: 100%|████████████████████████████████████████████████| 134/134 [01:35<00:00,  1.40it/s]\n"
          ]
        },
        {
          "name": "stdout",
          "output_type": "stream",
          "text": [
            "Train Loss: 8.8309, Accuracy: 97.33%\n",
            "Validation Loss: 13.5963, Validation Accuracy: 80.05%\n"
          ]
        },
        {
          "name": "stderr",
          "output_type": "stream",
          "text": [
            "Epoch 11/30: 100%|████████████████████████████████████████████████| 134/134 [01:33<00:00,  1.44it/s]\n"
          ]
        },
        {
          "name": "stdout",
          "output_type": "stream",
          "text": [
            "Train Loss: 7.1587, Accuracy: 97.93%\n",
            "Validation Loss: 12.4197, Validation Accuracy: 80.32%\n"
          ]
        },
        {
          "name": "stderr",
          "output_type": "stream",
          "text": [
            "Epoch 12/30: 100%|████████████████████████████████████████████████| 134/134 [01:34<00:00,  1.42it/s]\n"
          ]
        },
        {
          "name": "stdout",
          "output_type": "stream",
          "text": [
            "Train Loss: 5.9115, Accuracy: 98.49%\n",
            "Validation Loss: 10.9594, Validation Accuracy: 81.38%\n"
          ]
        },
        {
          "name": "stderr",
          "output_type": "stream",
          "text": [
            "Epoch 13/30: 100%|████████████████████████████████████████████████| 134/134 [01:34<00:00,  1.41it/s]\n"
          ]
        },
        {
          "name": "stdout",
          "output_type": "stream",
          "text": [
            "Train Loss: 4.9938, Accuracy: 98.74%\n",
            "Validation Loss: 11.4411, Validation Accuracy: 81.12%\n"
          ]
        },
        {
          "name": "stderr",
          "output_type": "stream",
          "text": [
            "Epoch 14/30: 100%|████████████████████████████████████████████████| 134/134 [01:35<00:00,  1.40it/s]\n"
          ]
        },
        {
          "name": "stdout",
          "output_type": "stream",
          "text": [
            "Train Loss: 4.2555, Accuracy: 99.09%\n",
            "Validation Loss: 11.0666, Validation Accuracy: 82.18%\n"
          ]
        },
        {
          "name": "stderr",
          "output_type": "stream",
          "text": [
            "Epoch 15/30: 100%|████████████████████████████████████████████████| 134/134 [01:36<00:00,  1.38it/s]\n"
          ]
        },
        {
          "name": "stdout",
          "output_type": "stream",
          "text": [
            "Train Loss: 3.6998, Accuracy: 99.33%\n",
            "Validation Loss: 9.9731, Validation Accuracy: 81.65%\n"
          ]
        },
        {
          "name": "stderr",
          "output_type": "stream",
          "text": [
            "Epoch 16/30: 100%|████████████████████████████████████████████████| 134/134 [01:34<00:00,  1.41it/s]\n"
          ]
        },
        {
          "name": "stdout",
          "output_type": "stream",
          "text": [
            "Train Loss: 3.1455, Accuracy: 99.51%\n",
            "Validation Loss: 11.1373, Validation Accuracy: 80.05%\n"
          ]
        },
        {
          "name": "stderr",
          "output_type": "stream",
          "text": [
            "Epoch 17/30: 100%|████████████████████████████████████████████████| 134/134 [01:41<00:00,  1.32it/s]\n"
          ]
        },
        {
          "name": "stdout",
          "output_type": "stream",
          "text": [
            "Train Loss: 2.9529, Accuracy: 99.66%\n",
            "Validation Loss: 10.1163, Validation Accuracy: 81.38%\n"
          ]
        },
        {
          "name": "stderr",
          "output_type": "stream",
          "text": [
            "Epoch 18/30: 100%|████████████████████████████████████████████████| 134/134 [01:34<00:00,  1.42it/s]\n"
          ]
        },
        {
          "name": "stdout",
          "output_type": "stream",
          "text": [
            "Train Loss: 2.8717, Accuracy: 99.59%\n",
            "Validation Loss: 11.0730, Validation Accuracy: 81.12%\n"
          ]
        },
        {
          "name": "stderr",
          "output_type": "stream",
          "text": [
            "Epoch 19/30: 100%|████████████████████████████████████████████████| 134/134 [01:32<00:00,  1.45it/s]\n"
          ]
        },
        {
          "name": "stdout",
          "output_type": "stream",
          "text": [
            "Train Loss: 2.1518, Accuracy: 99.84%\n",
            "Validation Loss: 8.0786, Validation Accuracy: 86.17%\n"
          ]
        },
        {
          "name": "stderr",
          "output_type": "stream",
          "text": [
            "Epoch 20/30: 100%|████████████████████████████████████████████████| 134/134 [01:34<00:00,  1.42it/s]\n"
          ]
        },
        {
          "name": "stdout",
          "output_type": "stream",
          "text": [
            "Train Loss: 1.7097, Accuracy: 99.89%\n",
            "Validation Loss: 7.7933, Validation Accuracy: 85.90%\n"
          ]
        },
        {
          "name": "stderr",
          "output_type": "stream",
          "text": [
            "Epoch 21/30: 100%|████████████████████████████████████████████████| 134/134 [01:33<00:00,  1.43it/s]\n"
          ]
        },
        {
          "name": "stdout",
          "output_type": "stream",
          "text": [
            "Train Loss: 1.5520, Accuracy: 99.95%\n",
            "Validation Loss: 7.8024, Validation Accuracy: 85.64%\n"
          ]
        },
        {
          "name": "stderr",
          "output_type": "stream",
          "text": [
            "Epoch 22/30: 100%|████████████████████████████████████████████████| 134/134 [01:32<00:00,  1.44it/s]\n"
          ]
        },
        {
          "name": "stdout",
          "output_type": "stream",
          "text": [
            "Train Loss: 1.4198, Accuracy: 99.95%\n",
            "Validation Loss: 7.5546, Validation Accuracy: 87.50%\n"
          ]
        },
        {
          "name": "stderr",
          "output_type": "stream",
          "text": [
            "Epoch 23/30: 100%|████████████████████████████████████████████████| 134/134 [01:34<00:00,  1.41it/s]\n"
          ]
        },
        {
          "name": "stdout",
          "output_type": "stream",
          "text": [
            "Train Loss: 1.2310, Accuracy: 99.98%\n",
            "Validation Loss: 7.5765, Validation Accuracy: 87.50%\n"
          ]
        },
        {
          "name": "stderr",
          "output_type": "stream",
          "text": [
            "Epoch 24/30: 100%|████████████████████████████████████████████████| 134/134 [01:33<00:00,  1.44it/s]\n"
          ]
        },
        {
          "name": "stdout",
          "output_type": "stream",
          "text": [
            "Train Loss: 1.1815, Accuracy: 99.95%\n",
            "Validation Loss: 7.4167, Validation Accuracy: 88.03%\n"
          ]
        },
        {
          "name": "stderr",
          "output_type": "stream",
          "text": [
            "Epoch 25/30: 100%|████████████████████████████████████████████████| 134/134 [01:33<00:00,  1.44it/s]\n"
          ]
        },
        {
          "name": "stdout",
          "output_type": "stream",
          "text": [
            "Train Loss: 1.1337, Accuracy: 99.96%\n",
            "Validation Loss: 7.5280, Validation Accuracy: 87.23%\n"
          ]
        },
        {
          "name": "stderr",
          "output_type": "stream",
          "text": [
            "Epoch 26/30: 100%|████████████████████████████████████████████████| 134/134 [01:31<00:00,  1.46it/s]\n"
          ]
        },
        {
          "name": "stdout",
          "output_type": "stream",
          "text": [
            "Train Loss: 1.0550, Accuracy: 99.98%\n",
            "Validation Loss: 7.5635, Validation Accuracy: 87.50%\n"
          ]
        },
        {
          "name": "stderr",
          "output_type": "stream",
          "text": [
            "Epoch 27/30: 100%|████████████████████████████████████████████████| 134/134 [01:37<00:00,  1.38it/s]\n"
          ]
        },
        {
          "name": "stdout",
          "output_type": "stream",
          "text": [
            "Train Loss: 0.8717, Accuracy: 99.95%\n",
            "Validation Loss: 7.7812, Validation Accuracy: 85.64%\n"
          ]
        },
        {
          "name": "stderr",
          "output_type": "stream",
          "text": [
            "Epoch 28/30: 100%|████████████████████████████████████████████████| 134/134 [01:32<00:00,  1.45it/s]\n"
          ]
        },
        {
          "name": "stdout",
          "output_type": "stream",
          "text": [
            "Train Loss: 0.8170, Accuracy: 99.98%\n",
            "Validation Loss: 7.1533, Validation Accuracy: 86.44%\n"
          ]
        },
        {
          "name": "stderr",
          "output_type": "stream",
          "text": [
            "Epoch 29/30: 100%|████████████████████████████████████████████████| 134/134 [01:34<00:00,  1.42it/s]\n"
          ]
        },
        {
          "name": "stdout",
          "output_type": "stream",
          "text": [
            "Train Loss: 0.7746, Accuracy: 99.98%\n",
            "Validation Loss: 7.2671, Validation Accuracy: 86.44%\n"
          ]
        },
        {
          "name": "stderr",
          "output_type": "stream",
          "text": [
            "Epoch 30/30: 100%|████████████████████████████████████████████████| 134/134 [01:31<00:00,  1.46it/s]\n"
          ]
        },
        {
          "name": "stdout",
          "output_type": "stream",
          "text": [
            "Train Loss: 0.6745, Accuracy: 99.98%\n",
            "Validation Loss: 7.2450, Validation Accuracy: 86.70%\n"
          ]
        }
      ],
      "source": [
        "# Обучение модели с ArcFaceLoss\n",
        "\n",
        "batch_size = 64\n",
        "train_loader = DataLoader(train_dataset, num_workers=0, batch_size=batch_size, shuffle=True)\n",
        "val_loader = DataLoader(val_subset, num_workers=0, batch_size=batch_size, shuffle=False)\n",
        "test_loader = DataLoader(test_dataset, num_workers=0, batch_size=batch_size, shuffle=False)\n",
        "\n",
        "model_arc = ArcFaceEfficientNet() \n",
        "ebmb_size = model_arc.emb_size\n",
        "print(f\"ebmbedding size: {ebmb_size}\")\n",
        "n_classes = len(np.unique(images_info.image_id))\n",
        "print(f\"{n_classes} classes\")\n",
        "print(f\"device: {device}\")\n",
        "model_arc.to(device)\n",
        "\n",
        "logits_calc = ArcFaceLogits(ebmb_size, n_classes)\n",
        "criterion = ArcFaceLoss(n_classes)\n",
        "optimizer = optim.Adam(model_arc.parameters(), lr=0.001)\n",
        "scheduler = lr_scheduler.ReduceLROnPlateau(optimizer, mode='min', factor=0.5, patience=2, verbose=True)\n",
        "\n",
        "train_losses, train_accuracies, val_losses, val_accuracies = train_model_arcface(\n",
        "    model_arc,\n",
        "    logits_calc,\n",
        "    train_loader,\n",
        "    val_loader, \n",
        "    criterion, \n",
        "    optimizer, \n",
        "    scheduler, \n",
        "    num_epochs=30,\n",
        "    model_name=\"ArcFaceEfficientNet_b1\",\n",
        "    device=device\n",
        ")\n",
        "\n",
        "# torch.cuda.empty_cache()"
      ]
    },
    {
      "cell_type": "code",
      "execution_count": null,
      "metadata": {},
      "outputs": [
        {
          "data": {
            "image/png": "[encoded data removed]",
            "text/plain": [
              "<Figure size 1200x500 with 2 Axes>"
            ]
          },
          "metadata": {},
          "output_type": "display_data"
        }
      ],
      "source": [
        "# Визуализация обучения\n",
        "\n",
        "plt.figure(figsize=(12, 5))\n",
        "\n",
        "plt.subplot(1, 2, 1)\n",
        "plt.plot(train_losses, label='Training Loss', marker='.')\n",
        "plt.plot(val_losses, label='Validation Loss', marker='.')\n",
        "plt.title('Training / Validation Loss')\n",
        "plt.xlabel('Epochs')\n",
        "plt.ylabel('Loss')\n",
        "plt.legend()\n",
        "plt.grid()\n",
        "\n",
        "plt.subplot(1, 2, 2)\n",
        "plt.plot(train_accuracies, label='Training Accuracy', marker='.')\n",
        "plt.plot(val_accuracies, label='Validation Accuracy', marker='.')\n",
        "plt.title('Training / Validation Accuracy')\n",
        "plt.xlabel('Epochs')\n",
        "plt.ylabel('Accuracy (%)')\n",
        "plt.legend()\n",
        "plt.grid()\n",
        "\n",
        "plt.tight_layout()\n",
        "plt.show()"
      ]
    },
    {
      "cell_type": "code",
      "execution_count": null,
      "metadata": {},
      "outputs": [
        {
          "name": "stderr",
          "output_type": "stream",
          "text": [
            "Test: 100%|██████████| 25/25 [00:15<00:00,  1.58batch/s]"
          ]
        },
        {
          "name": "stdout",
          "output_type": "stream",
          "text": [
            "Test Loss: 6.8144, Test Accuracy: 87.79%\n"
          ]
        },
        {
          "name": "stderr",
          "output_type": "stream",
          "text": [
            "\n"
          ]
        }
      ],
      "source": [
        "# Проверка на тестовых данных\n",
        "\n",
        "model_arc.eval()\n",
        "test_running_loss = 0\n",
        "test_correct = 0\n",
        "test_total = 0\n",
        "\n",
        "with torch.no_grad():\n",
        "    for images, labels in tqdm(test_loader, desc='Test', unit='batch'):        \n",
        "        images, labels = images.to(device), labels.to(device)\n",
        "        features = model_arc(images)\n",
        "        logits = logits_calc(features)\n",
        "        loss = criterion(logits, labels).mean()\n",
        "        test_running_loss += loss.item()\n",
        "\n",
        "        _, predicted = torch.max(logits.data, 1)\n",
        "        test_total += labels.size(0)\n",
        "        test_correct += (predicted == labels).sum().item()\n",
        "\n",
        "    avg_test_loss = test_running_loss / len(test_loader)\n",
        "    test_accuracy = 100 * test_correct / test_total\n",
        "\n",
        "print(f'Test Loss: {avg_test_loss:.4f}, Test Accuracy: {test_accuracy:.2f}%')"
      ]
    },
    {
      "cell_type": "markdown",
      "metadata": {},
      "source": [
        "### Test Accuracy, efficientnetb1 с ArcFace Loss: 87.79%"
      ]
    },
    {
      "cell_type": "markdown",
      "metadata": {},
      "source": [
        "Модель с ArcFace Loss лучше по точности чем с кроссэнтропией. И это правильно.\n",
        "Для хорошего результата нужно применять методы уменьшения LR, например ReduceLROnPlateau / StepLR."
      ]
    },
    {
      "cell_type": "markdown",
      "metadata": {},
      "source": [
        "### 7. Вычисление эмбеддингов изображений:"
      ]
    },
    {
      "cell_type": "code",
      "execution_count": null,
      "metadata": {},
      "outputs": [],
      "source": [
        "# Функция для вычисления эмбеддингов изображений\n",
        "\n",
        "def compute_embeddings(model, images_list, device='cuda', rescale_size=256):\n",
        "    model = model.to(device).eval()\n",
        "    embeddings = []\n",
        "\n",
        "    transform = transforms.Compose([\n",
        "        transforms.Resize((rescale_size, rescale_size)),\n",
        "        transforms.ToTensor(),\n",
        "        transforms.Normalize([0.485, 0.456, 0.406],\n",
        "                             [0.229, 0.224, 0.225])\n",
        "    ])\n",
        "\n",
        "    with torch.no_grad():\n",
        "        for img_path in images_list:\n",
        "            img = Image.open(img_path).convert('RGB')\n",
        "            x = transform(img).unsqueeze(0).to(device)  # [1,3,H,W]\n",
        "            out = model(x)  # ожидаемый выход [1, emb_size]\n",
        "            \n",
        "            # Если прям вырезаем последний слой:\n",
        "            if out.dim() == 1:\n",
        "                out = out.unsqueeze(0)  # сделает [1, emb_size]\n",
        "\n",
        "            out = F.normalize(out, p=2, dim=1)\n",
        "            embeddings.append(out.cpu().numpy())\n",
        "\n",
        "    embeddings = np.vstack(embeddings)  # (N, emb_size)\n",
        "    return embeddings"
      ]
    },
    {
      "cell_type": "code",
      "execution_count": null,
      "metadata": {},
      "outputs": [
        {
          "name": "stdout",
          "output_type": "stream",
          "text": [
            "Weights successfully loaded!\n"
          ]
        },
        {
          "name": "stderr",
          "output_type": "stream",
          "text": [
            "C:\\Users\\Ritz\\AppData\\Local\\Temp\\ipykernel_27112\\1868701852.py:38: FutureWarning: You are using `torch.load` with `weights_only=False` (the current default value), which uses the default pickle module implicitly. It is possible to construct malicious pickle data which will execute arbitrary code during unpickling (See https://github.com/pytorch/pytorch/blob/main/SECURITY.md#untrusted-models for more details). In a future release, the default value for `weights_only` will be flipped to `True`. This limits the functions that could be executed during unpickling. Arbitrary objects will no longer be allowed to be loaded via this mode unless they are explicitly allowlisted by the user via `torch.serialization.add_safe_globals`. We recommend you start setting `weights_only=True` for any use case where you don't have full control of the loaded file. Please open an issue on GitHub for any issues related to this experimental feature.\n",
            "  state_dict = torch.load(weights_path, map_location=torch.device('cuda'))\n"
          ]
        }
      ],
      "source": [
        "# Сравнение эмбеддингов:\n",
        "# Загрузить аннотации (идентификаторы лиц) из celebA_anno.txt.\n",
        "# Выбрать по 10 изображений той же личности и по 10 — разных.\n",
        "# Применить compute_embeddings() и посчитать косинусную схожесть.\n",
        "\n",
        "\n",
        "# Загрузка аннотаций\n",
        "# читаем фиксации путей и identity-label\n",
        "def load_annotations(annotations_file):\n",
        "    id_dict = {}  # mapping image_name -> identity\n",
        "    with open(annotations_file, 'r') as f:\n",
        "        for line in f:\n",
        "            name, identity = line.strip().split()\n",
        "            id_dict[name] = int(identity)\n",
        "    return id_dict\n",
        "\n",
        "\n",
        "# Выбор изображений\n",
        "def sample_same_and_diff(id_dict, images_dir, same_identity, n=10):\n",
        "    # собираем всех по одному id\n",
        "    same = [name for name, pid in id_dict.items() if pid == same_identity]\n",
        "    if len(same) < n: raise ValueError\n",
        "    same = random.sample(same, n)\n",
        "    \n",
        "    diff = [name for name, pid in id_dict.items() if pid != same_identity]\n",
        "    diff = random.sample(diff, n)\n",
        "    \n",
        "    return [os.path.join(images_dir, name) for name in same], \\\n",
        "           [os.path.join(images_dir, name) for name in diff]\n",
        "           \n",
        "\n",
        "# Загрузка модели\n",
        "model = ArcFaceEfficientNet()\n",
        "device = torch.device('cuda' if torch.cuda.is_available() else 'cpu')\n",
        "\n",
        "# Загрузка весов модели\n",
        "weights_path = \"ArcFaceEfficientNet_b1_24_valacc88.pth\"\n",
        "state_dict = torch.load(weights_path, map_location=torch.device('cuda'))\n",
        "model.load_state_dict(state_dict)\n",
        "print(\"Weights successfully loaded!\")"
      ]
    },
    {
      "cell_type": "code",
      "execution_count": null,
      "metadata": {},
      "outputs": [
        {
          "data": {
            "image/png": "[encoded data removed]",
            "text/plain": [
              "<Figure size 1200x500 with 4 Axes>"
            ]
          },
          "metadata": {},
          "output_type": "display_data"
        }
      ],
      "source": [
        "# Сравнение эмбеддингов\n",
        "\n",
        "images_dir = 'H:/Disk3/Python/Deep_Learning_MFTI_Part1_2025/23.1 Проект/Dataset/celebA_train_500/celebA_imgs'\n",
        "annotations_file = 'H:/Disk3/Python/Deep_Learning_MFTI_Part1_2025/23.1 Проект/Dataset/celebA_train_500/celebA_anno.txt'\n",
        "split_file = 'H:/Disk3/Python/Deep_Learning_MFTI_Part1_2025/23.1 Проект/Dataset/celebA_train_500/celebA_train_split.txt'\n",
        "\n",
        "id_map = load_annotations(annotations_file)\n",
        "\n",
        "# берем identity первого изображения как пример\n",
        "first_img = next(iter(id_map))\n",
        "same_id = id_map[first_img]\n",
        "\n",
        "same_list, diff_list = sample_same_and_diff(id_map, images_dir, same_id, n=10)\n",
        "\n",
        "emb_same = compute_embeddings(model, same_list, device=device, rescale_size=256)\n",
        "emb_diff = compute_embeddings(model, diff_list, device=device, rescale_size=256)\n",
        "\n",
        "# матрица попарных cosines \n",
        "sim_same = cosine_similarity(emb_same)\n",
        "sim_diff = cosine_similarity(emb_same, emb_diff)\n",
        "\n",
        "\n",
        "fig, axes = plt.subplots(1, 2, figsize=(12, 5))\n",
        "\n",
        "# Матрица \"same\"\n",
        "ax = axes[0]\n",
        "im = ax.imshow(sim_same, vmin=0, vmax=1, cmap='viridis')\n",
        "ax.set_title('Cosine Similarity (Same Identity)')\n",
        "ax.set_xlabel('Image index')\n",
        "ax.set_ylabel('Image index')\n",
        "fig.colorbar(im, ax=ax, fraction=0.046, pad=0.04)\n",
        "\n",
        "# Матрица \"diff\"\n",
        "ax = axes[1]\n",
        "im = ax.imshow(sim_diff, vmin=0, vmax=1, cmap='magma')\n",
        "ax.set_title('Cosine Similarity (Different Identities)')\n",
        "ax.set_xlabel('Different person images')\n",
        "ax.set_ylabel('Same person images')\n",
        "fig.colorbar(im, ax=ax, fraction=0.046, pad=0.04)\n",
        "\n",
        "plt.tight_layout()\n",
        "plt.show()\n"
      ]
    },
    {
      "cell_type": "code",
      "execution_count": null,
      "metadata": {},
      "outputs": [
        {
          "data": {
            "image/png": "[encoded data removed]",
            "text/plain": [
              "<Figure size 640x480 with 1 Axes>"
            ]
          },
          "metadata": {},
          "output_type": "display_data"
        }
      ],
      "source": [
        "# Визуализация распределений попарных cosines 10 картинок одного человека и разных людей.\n",
        "\n",
        "same_vals = sim_same[np.triu_indices(10, k=1)]\n",
        "diff_vals = sim_diff.flatten()\n",
        "\n",
        "plt.hist(same_vals, bins=20, alpha=0.7, label='Same')\n",
        "plt.hist(diff_vals, bins=20, alpha=0.7, label='Diff')\n",
        "plt.legend()\n",
        "plt.title(\"Cosine similarities\")\n",
        "plt.show()"
      ]
    },
    {
      "cell_type": "markdown",
      "metadata": {},
      "source": [
        "Видно, что cosine_similarity для разных фото одного человека начинаются с 0,2, и пересекаются с cosine_similarity для разных людей.\n",
        "\n",
        "Test Accuracy с ArcFace Loss 87.8% значительно превышает Accuracy с CrossEntropy (70%). Но даже с ArcFace Loss эмбеддинги для лиц одинаковых персонажей сильно пересекаются с эмбеддингами для лиц различных людей."
      ]
    }
  ],
  "metadata": {
    "accelerator": "GPU",
    "colab": {
      "collapsed_sections": [
        "ACkib-kUcRMW",
        "vt2bvd3BdTD6",
        "0ZnHWmEJ4nbG",
        "c77dm4e-bQyn",
        "QNvo1RoYGsNv",
        "IhSLtrD2R2Ok",
        "oMO4JBKdXMgn",
        "fqIstFkuC0X2",
        "vcwpIx3UAw-z"
      ],
      "provenance": [],
      "toc_visible": true
    },
    "gpuClass": "standard",
    "kernelspec": {
      "display_name": "Python 3.10 LLM-P310",
      "language": "python",
      "name": "llm-p310"
    },
    "language_info": {
      "codemirror_mode": {
        "name": "ipython",
        "version": 3
      },
      "file_extension": ".py",
      "mimetype": "text/x-python",
      "name": "python",
      "nbconvert_exporter": "python",
      "pygments_lexer": "ipython3",
      "version": "3.10.15"
    }
  },
  "nbformat": 4,
  "nbformat_minor": 0
}
